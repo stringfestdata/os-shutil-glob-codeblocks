{
 "cells": [
  {
   "cell_type": "code",
   "execution_count": 1,
   "id": "51f6dd22-1de6-42a3-997c-e1fc58daa919",
   "metadata": {},
   "outputs": [
    {
     "name": "stdout",
     "output_type": "stream",
     "text": [
      "['example1.txt', 'example2.txt']\n",
      "['script1.py', 'script2.py', 'nested\\\\script3.py']\n"
     ]
    }
   ],
   "source": [
    "import glob\n",
    "\n",
    "# Find all text files in the current directory\n",
    "text_files = glob.glob('*.txt')\n",
    "print(text_files)\n",
    "\n",
    "# Find all Python files   in the current directory and its subdirectories\n",
    "python_files = glob.glob('**/*.py', recursive=True)\n",
    "print(python_files)"
   ]
  },
  {
   "cell_type": "code",
   "execution_count": null,
   "id": "e321a67d-93ee-4357-ad63-d337af4a675a",
   "metadata": {},
   "outputs": [],
   "source": []
  }
 ],
 "metadata": {
  "kernelspec": {
   "display_name": "Python 3 (ipykernel)",
   "language": "python",
   "name": "python3"
  },
  "language_info": {
   "codemirror_mode": {
    "name": "ipython",
    "version": 3
   },
   "file_extension": ".py",
   "mimetype": "text/x-python",
   "name": "python",
   "nbconvert_exporter": "python",
   "pygments_lexer": "ipython3",
   "version": "3.9.18"
  }
 },
 "nbformat": 4,
 "nbformat_minor": 5
}
